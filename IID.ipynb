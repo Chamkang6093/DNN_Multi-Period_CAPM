{
 "cells": [
  {
   "cell_type": "markdown",
   "id": "e04df9b0-ff40-46d9-9113-0d5bbe9323d6",
   "metadata": {},
   "source": [
    "<font size = 6>DNN solution to multi-period portfolio optimization - I.I.D case</font>\n",
    "<font size = 4><div style=\"text-align: right\"> Contributor: Haochen Jiang</div></font>\n",
    "<font size = 4><div style=\"text-align: right\"> Dec 5, 2022</div></font>"
   ]
  },
  {
   "cell_type": "code",
   "execution_count": null,
   "id": "a4f2a13c-a04e-4a96-b3ff-dc5e809c2e51",
   "metadata": {
    "id": "TjppkMmc5iXT"
   },
   "outputs": [],
   "source": [
    "import numpy as np\n",
    "import pandas as pd\n",
    "import matplotlib.pyplot as plt\n",
    "import seaborn as sns\n",
    "import tensorflow as tf\n",
    "\n",
    "from numpy.random import multivariate_normal as mn\n",
    "from cvxopt import matrix, solvers\n",
    "from keras import backend as K\n",
    "from tensorflow import keras\n",
    "from tensorflow.keras import layers\n",
    "from sympy import Matrix\n",
    "from IPython.core.interactiveshell import InteractiveShell\n",
    "InteractiveShell.ast_node_interactivity = \"all\""
   ]
  },
  {
   "cell_type": "code",
   "execution_count": null,
   "id": "b92aeac0-8fb6-49db-9ddd-7b1d03bc7403",
   "metadata": {
    "id": "cCKR8tsjNJue"
   },
   "outputs": [],
   "source": [
    "def state_trans(x, Rf):\n",
    "    # auxiliary function of make_model function\n",
    "    return (K.sum(x[0] * x[1], axis = 1, keepdims = True) + Rf + 1) * x[2]\n",
    "\n",
    "\n",
    "def adjust_constraint(x, box):\n",
    "    # auxiliary function of make_model function\n",
    "    range = box[1] - box[0]\n",
    "    multi_coef = range / 2\n",
    "    add_coef = box[0] + multi_coef\n",
    "    return x * multi_coef + add_coef\n",
    "\n",
    "\n",
    "def get_layer_output(model, layer_name, input):\n",
    "    layer_output = model.get_layer(layer_name).output\n",
    "    intermediate_model = keras.models.Model(inputs = model.input, outputs = layer_output)\n",
    "    intermediate_prediction=intermediate_model.predict(input)\n",
    "    return intermediate_prediction\n",
    "\n",
    "\n",
    "def make_model(v, t, p, box, Rf):\n",
    "    # Numebr of hidden layers in each step / subnetwork equals to 2.\n",
    "    x = keras.Input(shape = (1,), name = \"W_0\")\n",
    "    w = x\n",
    "    inputs, ws = [w], []\n",
    "\n",
    "    for i in range(t):\n",
    "        x = layers.Dense(units = v, name = \"L_\" + str(i) + \"_1\", kernel_initializer = \"glorot_uniform\", bias_initializer = \"glorot_uniform\")(x)\n",
    "        x = layers.Dense(units = v, name = \"L_\" + str(i) + \"_2\", kernel_initializer = \"glorot_uniform\", bias_initializer = \"glorot_uniform\")(x)\n",
    "        x = layers.Dense(units = p, activation = \"tanh\", name = \"tanh_\" + str(i), kernel_initializer = \"glorot_uniform\", bias_initializer = \"glorot_uniform\")(x)\n",
    "\n",
    "        x = layers.Lambda(adjust_constraint, name = \"g_\" + str(i) , arguments = {\"box\" : box})(x) \n",
    "        input = keras.layers.Input(shape=(p, ), name = \"Rk_\" + str(i))\n",
    "        x = layers.Lambda(state_trans, name = \"W_\" + str(i + 1), arguments = {\"Rf\" : Rf})([x, input, w]) \n",
    "        w = x\n",
    "\n",
    "        inputs.append(input)\n",
    "        ws.append(w)\n",
    "    \n",
    "    outputs = x\n",
    "    return keras.Model(inputs, outputs)"
   ]
  },
  {
   "cell_type": "markdown",
   "id": "b7b17164-cbdd-4b24-a524-cda483636b25",
   "metadata": {
    "id": "s6VY2oC9RDOC"
   },
   "source": [
    "# I.I.D Return Model"
   ]
  },
  {
   "cell_type": "markdown",
   "id": "3ca49650-a3a3-422f-adce-f30be8ba2a07",
   "metadata": {
    "id": "WGSAUYbh_mKu"
   },
   "source": [
    "## Prepare the parameters"
   ]
  },
  {
   "cell_type": "code",
   "execution_count": null,
   "id": "6dc99011-3dd6-44a6-929b-68932014852f",
   "metadata": {
    "id": "ZURyoLM0amNK"
   },
   "outputs": [],
   "source": [
    "# Number of samples in each step\n",
    "n_1 = 20000\n",
    "# Number of steps\n",
    "s_1 = 100\n",
    "# Number of risk assets\n",
    "p_1_1, p_1_2, p_1_3 = 5, 50, 100\n",
    "# Number of time period\n",
    "t_1_1, t_1_2, t_1_3 = 40, 40, 30\n",
    "# utility function parameter \n",
    "gamma_1_1, gamma_1_2, gamma_1_3 = 4, 5, 6\n",
    "# box constraints\n",
    "box_1_1, box_1_2, box_1_3 = [0, 1.5], [0, 0.5], [0, 0.5]"
   ]
  },
  {
   "cell_type": "code",
   "execution_count": null,
   "id": "8c6d841e-7d42-4bd0-a8e5-99e96b7b6f5d",
   "metadata": {
    "colab": {
     "base_uri": "https://localhost:8080/",
     "height": 119
    },
    "id": "t_Yyb8cRa6nn",
    "outputId": "aceb0325-5dbf-4386-cabf-08db18d55d94"
   },
   "outputs": [
    {
     "data": {
      "text/latex": [
       "$\\displaystyle \\left[\\begin{matrix}0\\\\0\\\\0\\\\0\\\\0\\end{matrix}\\right]$"
      ],
      "text/plain": [
       "Matrix([\n",
       "[0],\n",
       "[0],\n",
       "[0],\n",
       "[0],\n",
       "[0]])"
      ]
     },
     "execution_count": 4,
     "metadata": {},
     "output_type": "execute_result"
    }
   ],
   "source": [
    "# Mean vector of epsilons\n",
    "mean_vec_1_1 = np.array([0] * p_1_1)\n",
    "mean_vec_1_2 = np.array([0] * p_1_2)\n",
    "mean_vec_1_3 = np.array([0] * p_1_3)\n",
    "Matrix(mean_vec_1_1)"
   ]
  },
  {
   "cell_type": "code",
   "execution_count": null,
   "id": "7f2243bc-8f36-40e6-8e49-eb487adec34d",
   "metadata": {
    "colab": {
     "base_uri": "https://localhost:8080/",
     "height": 119
    },
    "id": "XTRHTY4RQ7qU",
    "outputId": "6d118e1c-c1df-43f9-cfbe-c559bb749f96"
   },
   "outputs": [
    {
     "data": {
      "text/latex": [
       "$\\displaystyle \\left[\\begin{matrix}1 & 0 & 0 & 0 & 0\\\\0 & 1 & 0 & 0 & 0\\\\0 & 0 & 1 & 0 & 0\\\\0 & 0 & 0 & 1 & 0\\\\0 & 0 & 0 & 0 & 1\\end{matrix}\\right]$"
      ],
      "text/plain": [
       "Matrix([\n",
       "[1, 0, 0, 0, 0],\n",
       "[0, 1, 0, 0, 0],\n",
       "[0, 0, 1, 0, 0],\n",
       "[0, 0, 0, 1, 0],\n",
       "[0, 0, 0, 0, 1]])"
      ]
     },
     "execution_count": 5,
     "metadata": {},
     "output_type": "execute_result"
    }
   ],
   "source": [
    "# Covariance matrix of epsilons\n",
    "cov_matrix_1_1 = np.diag([1] * p_1_1)\n",
    "cov_matrix_1_2 = np.diag([1] * p_1_2)\n",
    "cov_matrix_1_3 = np.diag([1] * p_1_3)\n",
    "Matrix(cov_matrix_1_1)"
   ]
  },
  {
   "cell_type": "code",
   "execution_count": null,
   "id": "7449ce63-96ed-458a-bee8-d6aae4f41ac7",
   "metadata": {
    "colab": {
     "base_uri": "https://localhost:8080/",
     "height": 119
    },
    "id": "nn89C1TIRC1A",
    "outputId": "61282203-064c-4855-de29-35eba3f53068"
   },
   "outputs": [
    {
     "data": {
      "text/latex": [
       "$\\displaystyle \\left[\\begin{matrix}0.1\\\\0.1\\\\0.2\\\\0.2\\\\0.2\\end{matrix}\\right]$"
      ],
      "text/plain": [
       "Matrix([\n",
       "[0.1],\n",
       "[0.1],\n",
       "[0.2],\n",
       "[0.2],\n",
       "[0.2]])"
      ]
     },
     "execution_count": 6,
     "metadata": {},
     "output_type": "execute_result"
    }
   ],
   "source": [
    "# Lambda vector of returns\n",
    "lambda_vec_1_1 = np.array([0.1, 0.1, 0.2, 0.2, 0.2])\n",
    "lambda_vec_1_2 = np.array([0.01] * 25 + [0.05] * 25)\n",
    "lambda_vec_1_3 = np.array([0.01] * 50 + [0.05] * 50)\n",
    "Matrix(lambda_vec_1_1)"
   ]
  },
  {
   "cell_type": "code",
   "execution_count": null,
   "id": "2f585db2-2c12-4d20-a8d5-e949e9b10298",
   "metadata": {
    "colab": {
     "base_uri": "https://localhost:8080/",
     "height": 119
    },
    "id": "1aGaRyydRCxx",
    "outputId": "efa06458-6b67-4f47-8dbe-e8b9f4162cf3"
   },
   "outputs": [
    {
     "data": {
      "text/latex": [
       "$\\displaystyle \\left[\\begin{matrix}0.15 & 0.01 & 0.01 & 0.01 & 0.01\\\\0.01 & 0.15 & 0.01 & 0.01 & 0.01\\\\0.01 & 0.01 & 0.15 & 0.01 & 0.01\\\\0.01 & 0.01 & 0.01 & 0.15 & 0.01\\\\0.01 & 0.01 & 0.01 & 0.01 & 0.15\\end{matrix}\\right]$"
      ],
      "text/plain": [
       "Matrix([\n",
       "[0.15, 0.01, 0.01, 0.01, 0.01],\n",
       "[0.01, 0.15, 0.01, 0.01, 0.01],\n",
       "[0.01, 0.01, 0.15, 0.01, 0.01],\n",
       "[0.01, 0.01, 0.01, 0.15, 0.01],\n",
       "[0.01, 0.01, 0.01, 0.01, 0.15]])"
      ]
     },
     "execution_count": 7,
     "metadata": {},
     "output_type": "execute_result"
    }
   ],
   "source": [
    "# Volatility matrix of returns\n",
    "sigma_matrix_1_1 = np.ones((p_1_1, p_1_1)) * 0.01\n",
    "sigma_matrix_1_1 += np.diag([0.15 - 0.01] * p_1_1)\n",
    "sigma_matrix_1_2 = np.ones((p_1_2, p_1_2)) * 0.005\n",
    "sigma_matrix_1_2 += np.diag([0.15 - 0.005] * p_1_2)\n",
    "sigma_matrix_1_3 = np.ones((p_1_3, p_1_3)) * 0.0025\n",
    "sigma_matrix_1_3 += np.diag([0.15 - 0.0025] * p_1_3)\n",
    "Matrix(sigma_matrix_1_1)"
   ]
  },
  {
   "cell_type": "markdown",
   "id": "b06a3925-0e82-486d-a401-f9bc81bbac09",
   "metadata": {
    "id": "ycsinJBWbQ_E"
   },
   "source": [
    "## Prepare the functions"
   ]
  },
  {
   "cell_type": "code",
   "execution_count": null,
   "id": "ea4ad1c7-55fc-4a36-a674-d6407839438a",
   "metadata": {
    "id": "Lc54QTqMXKSO"
   },
   "outputs": [],
   "source": [
    "#    Original steps by the author, which will cost a lot of memory when creating random numbers!!!\n",
    "#    This method creates all the random variables at the beginning, which is not good for small memory machines.\n",
    "#\n",
    "#    def generate_input_1(port_num, samples, times, mean_vec, cov_matrix, lambda_vec, sigma_matrix, if_val, steps = 100, r = r):\n",
    "#        # steps equal to 100 since we have to simulate the final samples\n",
    "#        steps = 1  if  if_val  else steps\n",
    "#        p, n, t, s, delta = port_num, samples, times, steps, 1/ times\n",
    "#        # Generate random variables - epsilons\n",
    "#        eps = mn(mean_vec, cov_matrix, t * s * n).reshape(t, n * s, p)\n",
    "#        # Generate excess returns based on epsilons\n",
    "#        coef = np.array([r] * p) + np.dot(sigma_matrix, lambda_vec) - 0.5 * np.diag(np.dot(sigma_matrix, sigma_matrix.T))\n",
    "#        coef = np.repeat(coef, t * s * n).reshape(t, n * s, p)\n",
    "#        left = coef * delta\n",
    "#        right = np.sqrt(delta) * np.dot(eps, sigma_matrix)\n",
    "#        random_matrix = np.exp(left + right) - np.exp(r * delta)\n",
    "#        return random_matrix\n",
    "#\n",
    "#\n",
    "#    def train_input_format(dataset, step_index, steps, samples, w_0 = 1):\n",
    "#        # note: step_index starts with 1\n",
    "#        # note: step_index equals to -1 when we want the whole dataset\n",
    "#        if step_index == -1:\n",
    "#            result = [np.array([[w_0] * dataset.shape[1]]).T]\n",
    "#            for data in dataset:\n",
    "#                result.append(data)\n",
    "#        else:\n",
    "#            if step_index > steps or step_index < 1:\n",
    "#                raise Exception(\"step index is out of index!\")\n",
    "#            result = [np.array([[w_0] * samples]).T]\n",
    "#            for data in dataset:\n",
    "#                result.append(data[samples * (step_index - 1): samples * step_index])\n",
    "#        return result\n",
    "#\n",
    "#\n",
    "#    def train_output_format(dataset, samples, gamma, if_all):\n",
    "#        if if_all == True:\n",
    "#            result = np.array([[gamma / 2] * dataset.shape[1]]).T\n",
    "#        else:\n",
    "#            result = np.array([[gamma / 2] * samples]).T\n",
    "#        return result\n",
    "#\n",
    "#\n",
    "#    def val_input_output_format_1(dataset, gamma, w_0 = 1):\n",
    "#        output = np.array([[gamma / 2] * dataset.shape[1]]).T\n",
    "#        input = [np.array([[w_0] * dataset.shape[1]]).T]\n",
    "#        for data in dataset:\n",
    "#            input.append(data)\n",
    "#        return input, output\n",
    "#\n",
    "#\n",
    "#    def train_model_1(v, port_num, samples, times, steps, gamma, box, input_dataset, val_dataset): \n",
    "#        p, n, t, s= port_num, samples, times, steps\n",
    "#        c, d = val_input_output_format_1(val_dataset, gamma)\n",
    "#\n",
    "#        m = make_model(v = v, t = t, p = p, box = box)\n",
    "#        m.compile(\n",
    "#            optimizer = keras.optimizers.Adam(learning_rate = 0.001),\n",
    "#            loss = tf.keras.losses.MeanSquaredError())\n",
    "#        \n",
    "#        val_losses = []\n",
    "#        for s_index in range(1, s + 1):\n",
    "#            a = train_input_format(input_dataset, s_index, s, n)\n",
    "#            b = train_output_format(input_dataset, n, gamma, False)\n",
    "#            h = m.fit(x = a,  y = b, batch_size = 64, epochs=1, validation_data = [c, d], verbose = 1)\n",
    "#            val_losses.append(h.history[\"val_loss\"][0])\n",
    "#\n",
    "#        a = train_input_format(input_dataset, -1, s, n)\n",
    "#        b = train_output_format(input_dataset, s, gamma, True)\n",
    "#        h = m.fit(x = a,  y = b, batch_size = 64, epochs=1, validation_data = [c, d], verbose = 1)\n",
    "#        val_losses.append(h.history[\"val_loss\"][0])\n",
    "#\n",
    "#        return (m, val_losses)"
   ]
  },
  {
   "cell_type": "code",
   "execution_count": null,
   "id": "ca3fbf23-7207-4c64-b915-30df41da26b5",
   "metadata": {
    "id": "L8NoxR_NSkLT"
   },
   "outputs": [],
   "source": [
    "def generate_input_1(port_num, samples, times, mean_vec, cov_matrix, lambda_vec, sigma_matrix):\n",
    "    # Annulized risk free rate \n",
    "    # which would be used in generating samples here -  i.i.d. case\n",
    "    r = 0.03\n",
    "    # steps equal to 100 since we have to simulate the final samples\n",
    "    steps = 1\n",
    "    # delta is the rebalancing time period\n",
    "    p, n, t, s, delta = port_num, samples, times, steps, 1/ times\n",
    "    # Generate random variables - epsilons\n",
    "    eps = mn(mean_vec, cov_matrix, t * s * n).reshape(t, n * s, p)\n",
    "    # Generate excess returns based on epsilons\n",
    "    coef = np.array([r] * p) + np.dot(sigma_matrix, lambda_vec) - 0.5 * np.diag(np.dot(sigma_matrix, sigma_matrix.T))\n",
    "    coef = np.repeat(coef, t * s * n).reshape(t, n * s, p)\n",
    "    left = coef * delta\n",
    "    right = np.sqrt(delta) * np.dot(eps, sigma_matrix)\n",
    "    random_matrix = np.exp(left + right) - np.exp(r * delta)\n",
    "    return random_matrix\n",
    "\n",
    "\n",
    "def input_output_format_1(dataset, gamma, w_0 = 1):\n",
    "    output = np.array([[gamma / 2] * dataset.shape[1]]).T\n",
    "    input = [np.array([[w_0] * dataset.shape[1]]).T]\n",
    "    for data in dataset:\n",
    "        input.append(data)\n",
    "    return input, output\n",
    "\n",
    "\n",
    "def train_model_1(v, port_num, samples, times, steps, gamma, box, mean_vec, cov_matrix, lambda_vec, sigma_matrix, save_name, if_extra = False): \n",
    "    # Annulized risk free rate \n",
    "    # which would be used in generating samples here -  i.i.d. case\n",
    "    r = 0.03\n",
    "    p, n, t, s = port_num, samples, times, steps\n",
    "\n",
    "    m = make_model(v = v, t = t, p = p, box = box, Rf = np.exp(r / t) - 1)\n",
    "    m.compile(\n",
    "        optimizer = keras.optimizers.Adam(learning_rate = 0.001),\n",
    "        loss = tf.keras.losses.MeanSquaredError())\n",
    "    \n",
    "    val_dataset = generate_input_1(p, n, t, mean_vec, cov_matrix, lambda_vec, sigma_matrix)\n",
    "    c, d = input_output_format_1(val_dataset, gamma)\n",
    "    val_losses = []\n",
    "\n",
    "    for _ in range(1, s + 101 if if_extra else s + 1):\n",
    "        input_dataset = generate_input_1(p, n, t, mean_vec, cov_matrix, lambda_vec, sigma_matrix)\n",
    "        a, b = input_output_format_1(input_dataset, gamma)\n",
    "        h = m.fit(x = a,  y = b, batch_size = 64, epochs=1, validation_data = [c, d], verbose = 1)\n",
    "        val_losses.append(h.history[\"val_loss\"][0])\n",
    "\n",
    "    np.save(\"./result_1/\" + save_name + \".npy\", (m, val_losses))\n",
    "    return (m, val_losses)"
   ]
  },
  {
   "cell_type": "markdown",
   "id": "1f127891-facd-4980-b439-d40799344b89",
   "metadata": {
    "id": "61Yf-HDhL-ay"
   },
   "source": [
    "## Train Models"
   ]
  },
  {
   "cell_type": "code",
   "execution_count": null,
   "id": "e4cdea65-d0d0-4751-b43a-08889a8bdde1",
   "metadata": {
    "id": "hP-5ME79IUSl"
   },
   "outputs": [],
   "source": [
    "#  result_1_1_1 = train_model_1(1, p_1_1, n_1, t_1_1, s_1, gamma_1_1, box_1_1, mean_vec_1_1, cov_matrix_1_1, lambda_vec_1_1, sigma_matrix_1_1, \"result_1_1\")\n",
    "#  result_1_1_2 = train_model_1(5, p_1_1, n_1, t_1_1, s_1, gamma_1_1, box_1_1, mean_vec_1_1, cov_matrix_1_1, lambda_vec_1_1, sigma_matrix_1_1, \"result_1_2\")\n",
    "#  result_1_1_3 = train_model_1(10, p_1_1, n_1, t_1_1, s_1, gamma_1_1, box_1_1, mean_vec_1_1, cov_matrix_1_1, lambda_vec_1_1, sigma_matrix_1_1, \"result_1_3\")\n",
    "#  result_1_2_1 = train_model_1(1, p_1_2, n_1, t_1_2, s_1, gamma_1_2, box_1_2, mean_vec_1_2, cov_matrix_1_2, lambda_vec_1_2, sigma_matrix_1_2, \"result_2_1\")\n",
    "#  result_1_2_2 = train_model_1(5, p_1_2, n_1, t_1_2, s_1, gamma_1_2, box_1_2, mean_vec_1_2, cov_matrix_1_2, lambda_vec_1_2, sigma_matrix_1_2, \"result_2_2\")\n",
    "#  result_1_2_3 = train_model_1(20, p_1_2, n_1, t_1_2, s_1, gamma_1_2, box_1_2, mean_vec_1_2, cov_matrix_1_2, lambda_vec_1_2, sigma_matrix_1_2, \"result_2_3\")\n",
    "#  result_1_3_1 = train_model_1(1, p_1_3, n_1, t_1_3, s_1, gamma_1_3, box_1_3, mean_vec_1_3, cov_matrix_1_3, lambda_vec_1_3, sigma_matrix_1_3, \"result_3_1\")\n",
    "#  result_1_3_2 = train_model_1(5, p_1_3, n_1, t_1_3, s_1, gamma_1_3, box_1_3, mean_vec_1_3, cov_matrix_1_3, lambda_vec_1_3, sigma_matrix_1_3, \"result_3_2\")\n",
    "#  result_1_3_3 = train_model_1(20, p_1_3, n_1, t_1_3, s_1, gamma_1_3, box_1_3, mean_vec_1_3, cov_matrix_1_3, lambda_vec_1_3, sigma_matrix_1_3, \"result_3_3\")"
   ]
  },
  {
   "cell_type": "code",
   "execution_count": null,
   "id": "9f36deb4-64b1-4f9a-93b0-87e5c29392a3",
   "metadata": {
    "id": "89nLKaxYo-S_"
   },
   "outputs": [],
   "source": [
    "# Read saved results\n",
    "result_1_1_1 = np.load(\"result_1_1.npy\", allow_pickle = True)\n",
    "result_1_1_2 = np.load(\"result_1_2.npy\", allow_pickle = True)\n",
    "result_1_1_3 = np.load(\"result_1_3.npy\", allow_pickle = True)\n",
    "result_1_2_1 = np.load(\"result_2_1.npy\", allow_pickle = True)\n",
    "result_1_2_2 = np.load(\"result_2_2.npy\", allow_pickle = True)\n",
    "result_1_2_3 = np.load(\"result_2_3.npy\", allow_pickle = True)\n",
    "result_1_3_1 = np.load(\"result_3_1.npy\", allow_pickle = True)\n",
    "result_1_3_2 = np.load(\"result_3_2.npy\", allow_pickle = True)\n",
    "result_1_3_3 = np.load(\"result_3_3.npy\", allow_pickle = True)"
   ]
  },
  {
   "cell_type": "code",
   "execution_count": null,
   "id": "24998d2d-0063-4c2d-aa32-68ad36a39035",
   "metadata": {
    "id": "jS5PcAI4LCbi"
   },
   "outputs": [],
   "source": [
    "# Check the models if necessary\n",
    "#result_1_1_1[0].summary()\n",
    "#keras.utils.plot_model(result_1_1_1[0], show_shapes=True)"
   ]
  },
  {
   "cell_type": "markdown",
   "id": "a00ed80c-5844-4dd9-b9ba-f8f0ba004735",
   "metadata": {
    "id": "A5VQbsIz1tbG"
   },
   "source": [
    "## Show Results"
   ]
  },
  {
   "cell_type": "code",
   "execution_count": null,
   "id": "a578cc2a-ecd1-48e2-80d6-bbb28de10e7c",
   "metadata": {
    "id": "HNagQXA_1qIb"
   },
   "outputs": [],
   "source": [
    "LSMC, HJB_1, HJB_2, HJB_3 = 0.827, 0.821, 2.032, 3.460\n",
    "error_LSMC, error_HJB_5, error_HJB_50, error_HJB_100 = {}, {}, {}, {}\n",
    "\n",
    "error_LSMC[\"1\"] = (np.array(result_1_1_1[1]) - LSMC) / LSMC\n",
    "error_LSMC[\"5\"] = (np.array(result_1_1_2[1]) - LSMC) / LSMC\n",
    "error_LSMC[\"10\"] = (np.array(result_1_1_3[1]) - LSMC) / LSMC\n",
    "error_HJB_5[\"1\"] = (np.array(result_1_1_1[1]) - HJB_1) / HJB_1\n",
    "error_HJB_5[\"5\"] = (np.array(result_1_1_2[1]) - HJB_1) / HJB_1\n",
    "error_HJB_5[\"10\"] = (np.array(result_1_1_3[1]) - HJB_1) / HJB_1\n",
    "error_HJB_50[\"1\"] = (np.array(result_1_2_1[1]) - HJB_2) / HJB_2\n",
    "error_HJB_50[\"5\"] = (np.array(result_1_2_2[1]) - HJB_2) / HJB_2\n",
    "error_HJB_50[\"20\"] = (np.array(result_1_2_3[1]) - HJB_2) / HJB_2\n",
    "error_HJB_100[\"1\"] = (np.array(result_1_3_1[1]) - HJB_3) / HJB_3\n",
    "error_HJB_100[\"5\"] = (np.array(result_1_3_2[1]) - HJB_3) / HJB_3\n",
    "error_HJB_100[\"20\"] = (np.array(result_1_3_3[1]) - HJB_3) / HJB_3\n",
    "\n",
    "error_LSMC = pd.DataFrame(error_LSMC, index = np.arange(1, 101))\n",
    "error_HJB_5 = pd.DataFrame(error_HJB_5, index = np.arange(1, 101))\n",
    "error_HJB_50 = pd.DataFrame(error_HJB_50, index = np.arange(1, 101))\n",
    "error_HJB_100 = pd.DataFrame(error_HJB_100, index = np.arange(1, 101))"
   ]
  },
  {
   "cell_type": "code",
   "execution_count": null,
   "id": "c61bff72-380a-442e-bfa3-baa96f53462b",
   "metadata": {
    "colab": {
     "base_uri": "https://localhost:8080/",
     "height": 424
    },
    "id": "rB-EFO72i9xp",
    "outputId": "60773fa1-be24-4a4d-dcc5-ee46bf981def"
   },
   "outputs": [
    {
     "data": {
      "text/html": [
       "\n",
       "  <div id=\"df-0425e365-7bd0-4ac3-8e78-148143c7e9f1\">\n",
       "    <div class=\"colab-df-container\">\n",
       "      <div>\n",
       "<style scoped>\n",
       "    .dataframe tbody tr th:only-of-type {\n",
       "        vertical-align: middle;\n",
       "    }\n",
       "\n",
       "    .dataframe tbody tr th {\n",
       "        vertical-align: top;\n",
       "    }\n",
       "\n",
       "    .dataframe thead th {\n",
       "        text-align: right;\n",
       "    }\n",
       "</style>\n",
       "<table border=\"1\" class=\"dataframe\">\n",
       "  <thead>\n",
       "    <tr style=\"text-align: right;\">\n",
       "      <th></th>\n",
       "      <th>1</th>\n",
       "      <th>5</th>\n",
       "      <th>10</th>\n",
       "    </tr>\n",
       "  </thead>\n",
       "  <tbody>\n",
       "    <tr>\n",
       "      <th>1</th>\n",
       "      <td>0.064773</td>\n",
       "      <td>0.044150</td>\n",
       "      <td>0.042267</td>\n",
       "    </tr>\n",
       "    <tr>\n",
       "      <th>2</th>\n",
       "      <td>0.053334</td>\n",
       "      <td>0.033232</td>\n",
       "      <td>0.033917</td>\n",
       "    </tr>\n",
       "    <tr>\n",
       "      <th>3</th>\n",
       "      <td>0.044981</td>\n",
       "      <td>0.027311</td>\n",
       "      <td>0.029486</td>\n",
       "    </tr>\n",
       "    <tr>\n",
       "      <th>4</th>\n",
       "      <td>0.039884</td>\n",
       "      <td>0.025371</td>\n",
       "      <td>0.026996</td>\n",
       "    </tr>\n",
       "    <tr>\n",
       "      <th>5</th>\n",
       "      <td>0.035654</td>\n",
       "      <td>0.023435</td>\n",
       "      <td>0.026965</td>\n",
       "    </tr>\n",
       "    <tr>\n",
       "      <th>...</th>\n",
       "      <td>...</td>\n",
       "      <td>...</td>\n",
       "      <td>...</td>\n",
       "    </tr>\n",
       "    <tr>\n",
       "      <th>96</th>\n",
       "      <td>0.017251</td>\n",
       "      <td>0.008855</td>\n",
       "      <td>0.014154</td>\n",
       "    </tr>\n",
       "    <tr>\n",
       "      <th>97</th>\n",
       "      <td>0.017039</td>\n",
       "      <td>0.009004</td>\n",
       "      <td>0.013489</td>\n",
       "    </tr>\n",
       "    <tr>\n",
       "      <th>98</th>\n",
       "      <td>0.016825</td>\n",
       "      <td>0.009746</td>\n",
       "      <td>0.013222</td>\n",
       "    </tr>\n",
       "    <tr>\n",
       "      <th>99</th>\n",
       "      <td>0.016824</td>\n",
       "      <td>0.010136</td>\n",
       "      <td>0.013033</td>\n",
       "    </tr>\n",
       "    <tr>\n",
       "      <th>100</th>\n",
       "      <td>0.017165</td>\n",
       "      <td>0.009413</td>\n",
       "      <td>0.014517</td>\n",
       "    </tr>\n",
       "  </tbody>\n",
       "</table>\n",
       "<p>100 rows × 3 columns</p>\n",
       "</div>\n",
       "      <button class=\"colab-df-convert\" onclick=\"convertToInteractive('df-0425e365-7bd0-4ac3-8e78-148143c7e9f1')\"\n",
       "              title=\"Convert this dataframe to an interactive table.\"\n",
       "              style=\"display:none;\">\n",
       "        \n",
       "  <svg xmlns=\"http://www.w3.org/2000/svg\" height=\"24px\"viewBox=\"0 0 24 24\"\n",
       "       width=\"24px\">\n",
       "    <path d=\"M0 0h24v24H0V0z\" fill=\"none\"/>\n",
       "    <path d=\"M18.56 5.44l.94 2.06.94-2.06 2.06-.94-2.06-.94-.94-2.06-.94 2.06-2.06.94zm-11 1L8.5 8.5l.94-2.06 2.06-.94-2.06-.94L8.5 2.5l-.94 2.06-2.06.94zm10 10l.94 2.06.94-2.06 2.06-.94-2.06-.94-.94-2.06-.94 2.06-2.06.94z\"/><path d=\"M17.41 7.96l-1.37-1.37c-.4-.4-.92-.59-1.43-.59-.52 0-1.04.2-1.43.59L10.3 9.45l-7.72 7.72c-.78.78-.78 2.05 0 2.83L4 21.41c.39.39.9.59 1.41.59.51 0 1.02-.2 1.41-.59l7.78-7.78 2.81-2.81c.8-.78.8-2.07 0-2.86zM5.41 20L4 18.59l7.72-7.72 1.47 1.35L5.41 20z\"/>\n",
       "  </svg>\n",
       "      </button>\n",
       "      \n",
       "  <style>\n",
       "    .colab-df-container {\n",
       "      display:flex;\n",
       "      flex-wrap:wrap;\n",
       "      gap: 12px;\n",
       "    }\n",
       "\n",
       "    .colab-df-convert {\n",
       "      background-color: #E8F0FE;\n",
       "      border: none;\n",
       "      border-radius: 50%;\n",
       "      cursor: pointer;\n",
       "      display: none;\n",
       "      fill: #1967D2;\n",
       "      height: 32px;\n",
       "      padding: 0 0 0 0;\n",
       "      width: 32px;\n",
       "    }\n",
       "\n",
       "    .colab-df-convert:hover {\n",
       "      background-color: #E2EBFA;\n",
       "      box-shadow: 0px 1px 2px rgba(60, 64, 67, 0.3), 0px 1px 3px 1px rgba(60, 64, 67, 0.15);\n",
       "      fill: #174EA6;\n",
       "    }\n",
       "\n",
       "    [theme=dark] .colab-df-convert {\n",
       "      background-color: #3B4455;\n",
       "      fill: #D2E3FC;\n",
       "    }\n",
       "\n",
       "    [theme=dark] .colab-df-convert:hover {\n",
       "      background-color: #434B5C;\n",
       "      box-shadow: 0px 1px 3px 1px rgba(0, 0, 0, 0.15);\n",
       "      filter: drop-shadow(0px 1px 2px rgba(0, 0, 0, 0.3));\n",
       "      fill: #FFFFFF;\n",
       "    }\n",
       "  </style>\n",
       "\n",
       "      <script>\n",
       "        const buttonEl =\n",
       "          document.querySelector('#df-0425e365-7bd0-4ac3-8e78-148143c7e9f1 button.colab-df-convert');\n",
       "        buttonEl.style.display =\n",
       "          google.colab.kernel.accessAllowed ? 'block' : 'none';\n",
       "\n",
       "        async function convertToInteractive(key) {\n",
       "          const element = document.querySelector('#df-0425e365-7bd0-4ac3-8e78-148143c7e9f1');\n",
       "          const dataTable =\n",
       "            await google.colab.kernel.invokeFunction('convertToInteractive',\n",
       "                                                     [key], {});\n",
       "          if (!dataTable) return;\n",
       "\n",
       "          const docLinkHtml = 'Like what you see? Visit the ' +\n",
       "            '<a target=\"_blank\" href=https://colab.research.google.com/notebooks/data_table.ipynb>data table notebook</a>'\n",
       "            + ' to learn more about interactive tables.';\n",
       "          element.innerHTML = '';\n",
       "          dataTable['output_type'] = 'display_data';\n",
       "          await google.colab.output.renderOutput(dataTable, element);\n",
       "          const docLink = document.createElement('div');\n",
       "          docLink.innerHTML = docLinkHtml;\n",
       "          element.appendChild(docLink);\n",
       "        }\n",
       "      </script>\n",
       "    </div>\n",
       "  </div>\n",
       "  "
      ],
      "text/plain": [
       "            1         5        10\n",
       "1    0.064773  0.044150  0.042267\n",
       "2    0.053334  0.033232  0.033917\n",
       "3    0.044981  0.027311  0.029486\n",
       "4    0.039884  0.025371  0.026996\n",
       "5    0.035654  0.023435  0.026965\n",
       "..        ...       ...       ...\n",
       "96   0.017251  0.008855  0.014154\n",
       "97   0.017039  0.009004  0.013489\n",
       "98   0.016825  0.009746  0.013222\n",
       "99   0.016824  0.010136  0.013033\n",
       "100  0.017165  0.009413  0.014517\n",
       "\n",
       "[100 rows x 3 columns]"
      ]
     },
     "execution_count": 73,
     "metadata": {},
     "output_type": "execute_result"
    }
   ],
   "source": [
    "error_HJB_5"
   ]
  },
  {
   "cell_type": "code",
   "execution_count": null,
   "id": "4afb282f-a2d8-45f2-949d-96d593e5cc2b",
   "metadata": {
    "colab": {
     "base_uri": "https://localhost:8080/",
     "height": 636
    },
    "id": "9Iqiu4Rc12wb",
    "outputId": "27512b8d-67c7-4991-813e-2972f077f9e7"
   },
   "outputs": [
    {
     "data": {
      "image/png": "[encoded data removed]",
      "text/plain": [
       "<Figure size 1440x720 with 2 Axes>"
      ]
     },
     "metadata": {
      "needs_background": "light"
     },
     "output_type": "display_data"
    }
   ],
   "source": [
    "#  fig = plt.figure(figsize=(10, 4));\n",
    "#  ax3 = fig.add_subplot(1, 2, 1);\n",
    "#  ax4 = fig.add_subplot(1, 2, 2);\n",
    "#  ax3.plot(error_HJB_50.index, error_HJB_50);\n",
    "#  ax4.plot(error_HJB_100.index, error_HJB_100);\n",
    "\n",
    "fig = plt.figure(figsize=(20, 10));\n",
    "ax1 = fig.add_subplot(1, 2, 1);\n",
    "\n",
    "ax1.plot(error_HJB_5.index, error_HJB_5[\"1\"], label = \"Hidden Layer Neuron number v = 1\");\n",
    "ax1.plot(error_HJB_5.index, error_HJB_5[\"5\"], label = \"Hidden Layer Neuron number v = 5\");\n",
    "ax1.plot(error_HJB_5.index, error_HJB_5[\"10\"], label = \"Hidden Layer Neuron number v = 10\");\n",
    "plt.xlabel(\"Steps\", fontsize = 16)\n",
    "plt.ylabel(\"Benchmark Error\", fontsize = 16)\n",
    "plt.xticks(fontsize = 16)\n",
    "plt.yticks(fontsize = 16)\n",
    "plt.legend(fontsize = 16)\n",
    "plt.title(\"IID case with portfolio number p = 5\",fontsize = 18);\n",
    "\n",
    "ax2 = fig.add_subplot(1, 2, 2);\n",
    "ax2.plot(error_HJB_100.index, error_HJB_100[\"1\"], label = \"Hidden Layer Neuron number v = 1\");\n",
    "ax2.plot(error_HJB_100.index, error_HJB_100[\"5\"], label = \"Hidden Layer Neuron number v = 5\");\n",
    "ax2.plot(error_HJB_100.index, error_HJB_100[\"20\"], label = \"Hidden Layer Neuron number v = 10\");\n",
    "plt.xlabel(\"Steps\", fontsize = 16)\n",
    "plt.ylabel(\"Benchmark Error\", fontsize = 16)\n",
    "plt.xticks(fontsize = 16)\n",
    "plt.yticks(fontsize = 16)\n",
    "plt.legend(fontsize = 16)\n",
    "plt.title(\"IID case with portfolio number p = 100\",fontsize = 18);"
   ]
  }
 ],
 "metadata": {
  "kernelspec": {
   "display_name": "Python 3 (ipykernel)",
   "language": "python",
   "name": "python3"
  },
  "language_info": {
   "codemirror_mode": {
    "name": "ipython",
    "version": 3
   },
   "file_extension": ".py",
   "mimetype": "text/x-python",
   "name": "python",
   "nbconvert_exporter": "python",
   "pygments_lexer": "ipython3",
   "version": "3.8.10"
  }
 },
 "nbformat": 4,
 "nbformat_minor": 5
}
