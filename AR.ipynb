{
 "cells": [
  {
   "cell_type": "markdown",
   "id": "be7afe44-c48e-4cc6-bda3-5cf6777bc06a",
   "metadata": {},
   "source": [
    "<font size = 6>DNN solution to multi-period portfolio optimization - AR(1) case</font>\n",
    "<font size = 4><div style=\"text-align: right\"> Contributor: Haochen Jiang</div></font>\n",
    "<font size = 4><div style=\"text-align: right\"> Dec 5, 2022</div></font>"
   ]
  },
  {
   "cell_type": "code",
   "execution_count": null,
   "id": "a10debad-0b38-4ade-bfe3-83e5de944e96",
   "metadata": {
    "id": "TjppkMmc5iXT"
   },
   "outputs": [],
   "source": [
    "import numpy as np\n",
    "import pandas as pd\n",
    "import matplotlib.pyplot as plt\n",
    "import seaborn as sns\n",
    "import tensorflow as tf\n",
    "\n",
    "from numpy.random import multivariate_normal as mn\n",
    "from cvxopt import matrix, solvers\n",
    "from keras import backend as K\n",
    "from tensorflow import keras\n",
    "from tensorflow.keras import layers\n",
    "from sympy import Matrix\n",
    "from IPython.core.interactiveshell import InteractiveShell\n",
    "InteractiveShell.ast_node_interactivity = \"all\""
   ]
  },
  {
   "cell_type": "code",
   "execution_count": null,
   "id": "62b05266-6c16-4cd5-817c-f83c45ce230b",
   "metadata": {
    "id": "cCKR8tsjNJue"
   },
   "outputs": [],
   "source": [
    "def state_trans(x, Rf):\n",
    "    # auxiliary function of make_model function\n",
    "    return (K.sum(x[0] * x[1], axis = 1, keepdims = True) + Rf + 1) * x[2]\n",
    "\n",
    "\n",
    "def adjust_constraint(x, box):\n",
    "    # auxiliary function of make_model function\n",
    "    range = box[1] - box[0]\n",
    "    multi_coef = range / 2\n",
    "    add_coef = box[0] + multi_coef\n",
    "    return x * multi_coef + add_coef\n",
    "\n",
    "\n",
    "def get_layer_output(model, layer_name, input):\n",
    "    layer_output = model.get_layer(layer_name).output\n",
    "    intermediate_model = keras.models.Model(inputs = model.input, outputs = layer_output)\n",
    "    intermediate_prediction=intermediate_model.predict(input)\n",
    "    return intermediate_prediction\n",
    "\n",
    "\n",
    "def make_model(v, t, p, box, Rf):\n",
    "    # Numebr of hidden layers in each step / subnetwork equals to 2.\n",
    "    x = keras.Input(shape = (1,), name = \"W_0\")\n",
    "    w = x\n",
    "    inputs, ws = [w], []\n",
    "\n",
    "    for i in range(t):\n",
    "        x = layers.Dense(units = v, name = \"L_\" + str(i) + \"_1\", kernel_initializer = \"glorot_uniform\", bias_initializer = \"glorot_uniform\")(x)\n",
    "        x = layers.Dense(units = v, name = \"L_\" + str(i) + \"_2\", kernel_initializer = \"glorot_uniform\", bias_initializer = \"glorot_uniform\")(x)\n",
    "        x = layers.Dense(units = p, activation = \"tanh\", name = \"tanh_\" + str(i), kernel_initializer = \"glorot_uniform\", bias_initializer = \"glorot_uniform\")(x)\n",
    "\n",
    "        x = layers.Lambda(adjust_constraint, name = \"g_\" + str(i) , arguments = {\"box\" : box})(x) \n",
    "        input = keras.layers.Input(shape=(p, ), name = \"Rk_\" + str(i))\n",
    "        x = layers.Lambda(state_trans, name = \"W_\" + str(i + 1), arguments = {\"Rf\" : Rf})([x, input, w]) \n",
    "        w = x\n",
    "\n",
    "        inputs.append(input)\n",
    "        ws.append(w)\n",
    "    \n",
    "    outputs = x\n",
    "    return keras.Model(inputs, outputs)"
   ]
  },
  {
   "cell_type": "markdown",
   "id": "a59d6f18-55bf-4ac1-9605-83fcd9736a44",
   "metadata": {
    "id": "NvUXQpTIft1P",
    "tags": []
   },
   "source": [
    "# AR(1) Model"
   ]
  },
  {
   "cell_type": "markdown",
   "id": "50867bc3-2fd8-4972-a9d8-025301d3cc11",
   "metadata": {
    "id": "-RQ9P7_7Nj_y"
   },
   "source": [
    "## Prepare the parameters"
   ]
  },
  {
   "cell_type": "code",
   "execution_count": null,
   "id": "babb9d9e-6536-4213-979e-37b69d4b27e0",
   "metadata": {
    "id": "V__d5I52gApZ"
   },
   "outputs": [],
   "source": [
    "# Number of risk assets\n",
    "p_2 = 30\n",
    "# Number of time period\n",
    "t_2 = 10\n",
    "# box constraints\n",
    "box_2_1, box_2_2, box_2_3 = [0, 0.5], [0, 1], [-0.5, 0.5]"
   ]
  },
  {
   "cell_type": "code",
   "execution_count": null,
   "id": "d6dbfe5c-5bcb-41d8-a5c1-419e688614c9",
   "metadata": {
    "id": "2W_1RSyfh5ku"
   },
   "outputs": [],
   "source": [
    "# Mean vector of epsilons\n",
    "mean_vec_2 = np.array([0] * p_2)\n",
    "# Covariance matrix of epsilons\n",
    "cov_matrix_2 = np.ones((p_2, p_2)) * 0.0027\n",
    "cov_matrix_2 += np.diag([0.0238 - 0.0027] * p_2)\n",
    "# Alpha vector of AR(1) model\n",
    "alpha_vec_2 = np.array([0.015] * p_2)\n",
    "# A matrix of AR(1) model\n",
    "A = np.diag([-0.15] * p_2)"
   ]
  },
  {
   "cell_type": "code",
   "execution_count": null,
   "id": "6cf11b5e-6f89-4c84-ad54-0a6a7fab6e21",
   "metadata": {
    "id": "2IcBzkPGj7kh"
   },
   "outputs": [],
   "source": [
    "# Check the parameters\n",
    "#Matrix(mean_vec_2)\n",
    "#Matrix(cov_matrix_2)\n",
    "#Matrix(alpha_vec_2)\n",
    "#Matrix(A)"
   ]
  },
  {
   "cell_type": "markdown",
   "id": "8fd47064-d01c-45ab-90ca-2e51d420cd11",
   "metadata": {
    "id": "bO0LmOuWNmS_"
   },
   "source": [
    "## Prepare the functions"
   ]
  },
  {
   "cell_type": "code",
   "execution_count": null,
   "id": "37566f16-4fce-4fe9-a855-38e0ba4e9c87",
   "metadata": {
    "id": "2zCIwzDBj7qS"
   },
   "outputs": [],
   "source": [
    "def generate_input_output_2(port_num, samples, times, gamma, mean_vec = mean_vec_2, cov_matrix = cov_matrix_2, alpha_vec = alpha_vec_2, w_0 = 1, A = A, Rf = 0.03):\n",
    "    p, n, t = port_num, samples, times\n",
    "    # Since we have to calculate R_{-1} to R_{29} in this case\n",
    "    # There are totally 31 elements in R, whose index is from 0 to 30, which are the subscripts plus 1\n",
    "    Rs = [np.dot(np.linalg.inv(np.diag([1.15] * p)), alpha_vec)]\n",
    "    random_matrix = mn(mean_vec, cov_matrix, t * n).reshape(t, n, p)\n",
    "    for i in range(t):\n",
    "        Rs.append(alpha_vec + np.dot(Rs[-1], A) + random_matrix[i])\n",
    "    Rs = Rs[1:]\n",
    "    output = np.array([[gamma / 2] * n]).T\n",
    "    input = [np.array([[w_0] * n]).T]\n",
    "    for R in Rs:\n",
    "        input.append(R)\n",
    "    return input, output\n",
    "\n",
    "\n",
    "def train_model_2(v, port_num, samples, times, steps, gamma, box, get_weights = False): \n",
    "    p, n, t, s = port_num, samples, times, steps\n",
    "\n",
    "    m = make_model(v = v, t = t, p = p, box = box, Rf = 0.03)\n",
    "    m.compile(\n",
    "        optimizer = keras.optimizers.Adam(learning_rate = 0.001),\n",
    "        loss = tf.keras.losses.MeanSquaredError())\n",
    "    \n",
    "    c, d = generate_input_output_2(p, n, t, gamma)\n",
    "    val_losses = []\n",
    "\n",
    "    for _ in range(1, s + 1):\n",
    "        a, b = generate_input_output_2(p, n, t, gamma)\n",
    "        h = m.fit(x = a,  y = b, batch_size = 64, epochs=1, validation_data = [c, d], verbose = 1)\n",
    "        val_losses.append(h.history[\"val_loss\"][0])\n",
    "    \n",
    "    w_final = get_layer_output(m, \"W_\" + str(t), c).flatten()\n",
    "    if get_weights:\n",
    "        weights = []\n",
    "        for i in range(t):\n",
    "            weights.append(get_layer_output(m, \"g_\" + str(i), c))\n",
    "        return m, np.sort(w_final), np.array(weights)\n",
    "    else:\n",
    "        return m, np.sort(w_final)"
   ]
  },
  {
   "cell_type": "code",
   "execution_count": null,
   "id": "08d0de8c-cc08-43ef-96a9-0810c7152fe2",
   "metadata": {
    "id": "3ylQAK6-a4uM"
   },
   "outputs": [],
   "source": [
    "def single_AR(port_num, samples, times, mu, if_cons = [0,1], external_rn = False, Rf = 0.03):\n",
    "    p, n, t = port_num, samples, times \n",
    "    \n",
    "    if external_rn:\n",
    "        Rs = np.array(external_rn)\n",
    "    else:\n",
    "        Rs = np.array(generate_input_output_2(p, n, t, 0)[0][1:])\n",
    "\n",
    "    R0 = Rs[0]\n",
    "    cov_matrix_R0 = np.cov(np.array(R0.T))\n",
    "    if if_cons != False:\n",
    "        if type(if_cons) != list:\n",
    "            raise Exception(\"Box constraints expressed by list is required!\")\n",
    "        # Since the default tolerances may be too strict if the problem is poorly conditioned\n",
    "        # Modifying the constraints is not suggested here!\n",
    "        l, u = if_cons\n",
    "        g0s, ws = [], []\n",
    "        for n_th in range(Rs.shape[1]):\n",
    "            w = [1]\n",
    "            P = matrix(cov_matrix_R0, tc='d')\n",
    "            q = matrix(np.array([0] * p), tc='d')\n",
    "            G = matrix(np.append(np.diag([-1] * p), np.diag([1] * p), axis=0), tc='d')\n",
    "            h = matrix(np.array([l] * p + [u] * p), tc='d')\n",
    "            A = matrix(np.array([R0[n_th]]), tc='d')\n",
    "            b = matrix(np.array([mu - Rf]), tc='d')\n",
    "            \n",
    "            solvers.options['show_progress'] = False\n",
    "            solvers.options['abstol'] = 1e-7\n",
    "            solvers.options['reltol'] = 1e-6\n",
    "            solvers.options['feastol'] = 1e-7\n",
    "            #solvers.options['abstol'] = 1e-1\n",
    "            #solvers.options['reltol'] = 1e-1\n",
    "            #solvers.options['feastol'] = 1e-1\n",
    "\n",
    "            try:\n",
    "                sol = solvers.qp(P,q,G,h,A,b)\n",
    "            except:\n",
    "                break\n",
    "            g0 = np.array(sol[\"x\"]).flatten()\n",
    "            for i in range(t):\n",
    "                w.append(w[-1] * (np.dot(g0, Rs[i][n_th]) + Rf + 1))\n",
    "            g0s.append(g0)\n",
    "            ws.append(w)\n",
    "        g0s = np.array(g0s)\n",
    "        ws = np.array(ws).T\n",
    "    else:\n",
    "        ws = [1]\n",
    "        denominator = np.diag(np.dot(np.dot(R0, np.linalg.inv(cov_matrix_R0)), R0.T))\n",
    "        for i in range(t):\n",
    "            ws.append(ws[-1] * ((mu - Rf) * np.diag(np.dot(np.dot(R0, np.linalg.inv(cov_matrix_R0)), Rs[i].T)) / denominator + Rf + 1))\n",
    "        g0s = (mu - Rf) * np.dot(R0, np.linalg.inv(cov_matrix_R0)) / np.repeat(np.array([denominator]).T, p, axis=1)\n",
    "        ws[0] = np.array([1] * n)\n",
    "        ws = np.array(ws)\n",
    "    return g0s, ws\n",
    "\n",
    "\n",
    "def cal_single_AR(port_num, times, samples, mu_vec, if_cons, iter_num = 1):\n",
    "    p, t, n = port_num, times, samples\n",
    "\n",
    "    cal_single = pd.DataFrame(np.zeros((mu_vec.shape[0], 4)), index = mu_vec, columns = [\"mean\", \"std\", \"label\", \"bias_num\"])\n",
    "    cal_single[\"label\"].iloc[:] = \"\"\n",
    "\n",
    "    for _ in range(iter_num):\n",
    "        mean, std, label, bias_num = [], [], [], []\n",
    "        for mu in mu_vec:\n",
    "            temp = single_AR(p, n, t, mu = mu, if_cons = if_cons, external_rn = False)\n",
    "            try:\n",
    "                mean.append(temp[1][-1].mean())\n",
    "                std.append(temp[1][-1].std())\n",
    "                if temp[1].shape[1] == n:\n",
    "                    label.append(\"Full\")\n",
    "                    bias_num.append(n - temp[1].shape[1])\n",
    "                else:\n",
    "                    label.append(\"Biased\")\n",
    "                    bias_num.append(n - temp[1].shape[1])\n",
    "            except:\n",
    "                mean.append(0)\n",
    "                std.append(0)\n",
    "                label.append(\"Empty\")\n",
    "                bias_num.append(n)\n",
    "        cal_single[\"mean\"] += mean\n",
    "        cal_single[\"std\"] += std\n",
    "        if _ == 0:\n",
    "            cal_single[\"label\"] = label\n",
    "            cal_single[\"bias_num\"] = bias_num\n",
    "\n",
    "    cal_single[\"std\"] = cal_single[\"std\"] / iter_num\n",
    "    cal_single[\"mean\"] = cal_single[\"mean\"] / iter_num\n",
    "    cal_single[\"mean\"] = cal_single[\"mean\"] - 1\n",
    "    return cal_single"
   ]
  },
  {
   "cell_type": "code",
   "execution_count": null,
   "id": "99bf7ded-4085-42b6-b705-388c9b2446d6",
   "metadata": {
    "id": "x_jd9rV4oIb1"
   },
   "outputs": [],
   "source": [
    "def cal_multi_AR(v, port_num, times, box, gamma_vec, steps, samples):\n",
    "    p, t, s, n = port_num, times, steps, samples\n",
    "\n",
    "    cal_multi = pd.DataFrame(np.zeros((gamma_vec.shape[0], 2)), index = gamma_vec, columns = [\"mean\", \"std\"])\n",
    "    mean, std = [], []\n",
    "    for gamma in gamma_vec:\n",
    "        temp = train_model_2(v, p, n, t, s, gamma, box)[1]\n",
    "        mean.append(temp.mean())\n",
    "        std.append(temp.std())\n",
    "    cal_multi[\"mean\"] += mean\n",
    "    cal_multi[\"std\"] += std\n",
    "    cal_multi[\"mean\"] = cal_multi[\"mean\"] - 1\n",
    "\n",
    "    return cal_multi"
   ]
  },
  {
   "cell_type": "markdown",
   "id": "da45c1fa-f268-4c74-95bb-f8a6df85725c",
   "metadata": {
    "id": "34gP8C3mpAmh"
   },
   "source": [
    "## Train Models"
   ]
  },
  {
   "cell_type": "code",
   "execution_count": null,
   "id": "4d66cb2d-77b9-424d-ab64-86170989e8f4",
   "metadata": {
    "id": "PPJvBuJsnt9n"
   },
   "outputs": [],
   "source": [
    "#  multi_AR1 = cal_multi_AR(50, p_2, t_2, box_2_2, np.arange(3, 4.6, 0.2), steps = 100, samples = 10000)\n",
    "#  multi_AR2 = cal_multi_AR(50, p_2, t_2, box_2_2, np.arange(4.6, 6, 0.2), steps = 100, samples = 10000)\n",
    "#  multi_AR3 = cal_multi_AR(50, p_2, t_2, box_2_2, np.arange(6, 8, 0.2), steps = 150, samples = 10000)\n",
    "#  multi_AR4 = cal_multi_AR(50, p_2, t_2, box_2_2, np.arange(8, 15, 0.2), steps = 150, samples = 10000)\n",
    "multi_AR = pd.read_csv(\"multi_AR.csv\", index_col = \"Gamma\")\n",
    "multi_AR[\"std\"].iloc[38] = multi_AR[\"std\"].iloc[37]\n",
    "multi_AR[\"mean\"].iloc[38] = multi_AR[\"mean\"].iloc[37]"
   ]
  },
  {
   "cell_type": "code",
   "execution_count": null,
   "id": "d47a0d65-467d-4ed4-997d-468f16ea08c4",
   "metadata": {
    "id": "_cXUv1OT5BI7"
   },
   "outputs": [],
   "source": [
    "single_AR_con = cal_single_AR(p_2, t_2, 100, np.arange(0.03, 0.5, 0.01), [0, 1])\n",
    "single_AR_no = cal_single_AR(p_2, t_2, 100, np.arange(0.03, 1, 0.01), False)"
   ]
  },
  {
   "cell_type": "markdown",
   "id": "bfe72294-f984-4690-979c-4af37c79a0c5",
   "metadata": {
    "id": "n3xvfQcKmcPz"
   },
   "source": [
    "## Show Results"
   ]
  },
  {
   "cell_type": "code",
   "execution_count": null,
   "id": "37b25619-0577-4772-a81c-f9fe7b10c7e2",
   "metadata": {
    "colab": {
     "base_uri": "https://localhost:8080/",
     "height": 744
    },
    "id": "FAe7dYbA-_zm",
    "outputId": "8a3c0acb-4c26-4a55-8c6a-b51b98ebf619"
   },
   "outputs": [
    {
     "data": {
      "image/png": "[encoded data removed]",
      "text/plain": [
       "<Figure size 1440x864 with 1 Axes>"
      ]
     },
     "metadata": {
      "needs_background": "light"
     },
     "output_type": "display_data"
    }
   ],
   "source": [
    "fig =  plt.figure(figsize=(20, 12))\n",
    "ax = fig.add_subplot(1, 1, 1)\n",
    "ax.scatter(multi_AR[\"std\"], multi_AR[\"mean\"], label = \"multi period with [0, 1] constraints\")\n",
    "ax.scatter(single_AR_con[\"std\"], single_AR_con[\"mean\"], label = \"single period with [0, 1] constraints\")\n",
    "ax.scatter(single_AR_no[\"std\"], single_AR_no[\"mean\"], label = \"single period without constraints\")\n",
    "plt.xlabel(\"Standard Deviation\", fontsize = 16)\n",
    "plt.ylabel(\"Mean\", fontsize = 16)\n",
    "plt.xticks(fontsize = 16)\n",
    "plt.yticks(fontsize = 16)\n",
    "plt.legend(fontsize = 16)\n",
    "xlim = ax.get_xlim()\n",
    "ax.set_xlim(-0.01, xlim[1])\n",
    "plt.title(\"Final Wealth Captial Allocation Line - AR(1) case\", fontsize = 18);"
   ]
  }
 ],
 "metadata": {
  "kernelspec": {
   "display_name": "Python 3 (ipykernel)",
   "language": "python",
   "name": "python3"
  },
  "language_info": {
   "codemirror_mode": {
    "name": "ipython",
    "version": 3
   },
   "file_extension": ".py",
   "mimetype": "text/x-python",
   "name": "python",
   "nbconvert_exporter": "python",
   "pygments_lexer": "ipython3",
   "version": "3.8.10"
  }
 },
 "nbformat": 4,
 "nbformat_minor": 5
}
